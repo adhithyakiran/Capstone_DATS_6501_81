{
 "cells": [
  {
   "cell_type": "markdown",
   "id": "5499b078",
   "metadata": {},
   "source": [
    "## Pan-Sharpening Steps"
   ]
  },
  {
   "cell_type": "code",
   "execution_count": null,
   "id": "885fb2d7",
   "metadata": {},
   "outputs": [],
   "source": [
    "\n",
    "# Pan-sharpening function using a simple weighted sum method\n",
    "def pan_sharpen(panchromatic, band, weight=0.2):\n",
    "    return (1 - weight) * band + weight * panchromatic\n",
    "\n",
    "# Perform pan-sharpening on the Sentinel-2 bands using the PlanetScope panchromatic image\n",
    "pan_sharpened_B2 = pan_sharpen(planet_panchromatic, reprojected_B2)\n",
    "pan_sharpened_B3 = pan_sharpen(planet_panchromatic, reprojected_B3)\n",
    "pan_sharpened_B4 = pan_sharpen(planet_panchromatic, reprojected_B4)\n",
    "\n",
    "# Function to display before and after images\n",
    "def display_before_after(original, pansharpened, title):\n",
    "    fig, axes = plt.subplots(1, 2, figsize=(12, 6))\n",
    "    axes[0].imshow(original, cmap='gray')\n",
    "    axes[0].set_title(f'Original {title}')\n",
    "    axes[0].axis('off')\n",
    "    \n",
    "    axes[1].imshow(pansharpened, cmap='gray')\n",
    "    axes[1].set_title(f'Pan-Sharpened {title}')\n",
    "    axes[1].axis('off')\n",
    "    plt.show()\n",
    "\n",
    "# Display the images before and after pan-sharpening\n",
    "display_before_after(reprojected_B2, pan_sharpened_B2, 'B2 Band')\n",
    "display_before_after(reprojected_B3, pan_sharpened_B3, 'B3 Band')\n",
    "display_before_after(reprojected_B4, pan_sharpened_B4, 'B4 Band')\n"
   ]
  }
 ],
 "metadata": {},
 "nbformat": 4,
 "nbformat_minor": 5
}
