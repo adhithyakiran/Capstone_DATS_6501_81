{
 "cells": [
  {
   "cell_type": "markdown",
   "id": "0884c1e9",
   "metadata": {},
   "source": [
    "## Preprocessing Steps for Pan-Sharpening"
   ]
  },
  {
   "cell_type": "code",
   "execution_count": null,
   "id": "804d7221",
   "metadata": {},
   "outputs": [],
   "source": [
    "\n",
    "from rasterio.warp import reproject, Resampling\n",
    "import numpy as np\n",
    "import rasterio\n",
    "\n",
    "# Function to save a single-band image as a GeoTIFF\n",
    "def save_single_band_image(image, meta, file_path):\n",
    "    with rasterio.open(file_path, 'w', **meta) as dest:\n",
    "        dest.write(image, 1)\n",
    "\n",
    "# Function to reproject and resample an image to match a reference image\n",
    "def reproject_and_resample(src_image, src_meta, ref_meta):\n",
    "    dest_image = np.empty(shape=(ref_meta['height'], ref_meta['width']), dtype=ref_meta['dtype'])\n",
    "    reproject(\n",
    "        source=src_image,\n",
    "        destination=dest_image,\n",
    "        src_transform=src_meta['transform'],\n",
    "        src_crs=src_meta['crs'],\n",
    "        dst_transform=ref_meta['transform'],\n",
    "        dst_crs=ref_meta['crs'],\n",
    "        resampling=Resampling.bilinear\n",
    "    )\n",
    "    return dest_image\n"
   ]
  }
 ],
 "metadata": {},
 "nbformat": 4,
 "nbformat_minor": 5
}
